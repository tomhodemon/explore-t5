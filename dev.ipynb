{
 "cells": [
  {
   "cell_type": "code",
   "execution_count": 9,
   "id": "48594151-7a8d-4c84-bce9-e4ec2c0d8ecc",
   "metadata": {},
   "outputs": [],
   "source": [
    "class A:\n",
    "    def __init__(self,):\n",
    "        self.A_obj = 1\n",
    "        print('init A')\n",
    "        self.apply()\n",
    "\n",
    "    def apply(self,):\n",
    "        print('apply A')"
   ]
  },
  {
   "cell_type": "code",
   "execution_count": 17,
   "id": "2e5b89b2-0c69-4fac-beed-3a77260151dd",
   "metadata": {},
   "outputs": [],
   "source": [
    "class B(A):\n",
    "    def __init__(self,):\n",
    "        super().__init__()\n",
    "        print('init B')\n",
    "\n",
    "    def apply(self,):\n",
    "        print('apply B')"
   ]
  },
  {
   "cell_type": "code",
   "execution_count": 18,
   "id": "7387e372-fe64-436f-9c8e-37ebd9c77fd0",
   "metadata": {},
   "outputs": [
    {
     "name": "stdout",
     "output_type": "stream",
     "text": [
      "init A\n",
      "apply B\n",
      "init B\n"
     ]
    }
   ],
   "source": [
    "b = B()"
   ]
  },
  {
   "cell_type": "code",
   "execution_count": 16,
   "id": "a0480768-b312-438b-b613-9b73bf376cf9",
   "metadata": {},
   "outputs": [
    {
     "data": {
      "text/plain": [
       "1"
      ]
     },
     "execution_count": 16,
     "metadata": {},
     "output_type": "execute_result"
    }
   ],
   "source": [
    "b.A_obj"
   ]
  },
  {
   "cell_type": "code",
   "execution_count": null,
   "id": "11ebf025-e14b-4f3e-945b-f352c2c867eb",
   "metadata": {},
   "outputs": [],
   "source": []
  }
 ],
 "metadata": {
  "kernelspec": {
   "display_name": "Python 3 (ipykernel)",
   "language": "python",
   "name": "python3"
  },
  "language_info": {
   "codemirror_mode": {
    "name": "ipython",
    "version": 3
   },
   "file_extension": ".py",
   "mimetype": "text/x-python",
   "name": "python",
   "nbconvert_exporter": "python",
   "pygments_lexer": "ipython3",
   "version": "3.11.5"
  }
 },
 "nbformat": 4,
 "nbformat_minor": 5
}
